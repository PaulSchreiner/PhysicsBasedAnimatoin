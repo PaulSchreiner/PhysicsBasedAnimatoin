{
 "cells": [
  {
   "cell_type": "code",
   "execution_count": 1,
   "id": "322f3e9f",
   "metadata": {},
   "outputs": [],
   "source": [
    "import numpy as np\n",
    "import rainbow.math.vector3 as V3\n",
    "import rainbow.math.quaternion as Q\n",
    "import rainbow.geometry.surface_mesh as MESH\n",
    "import rainbow.simulators.prox_rigid_bodies.api as API\n",
    "import rainbow.simulators.prox_rigid_bodies.solver as SOLVER\n",
    "import rainbow.simulators.prox_rigid_bodies.collision_detection as CD\n",
    "import rainbow.simulators.prox_rigid_bodies.gauss_seidel as GS\n",
    "import rainbow.util.viewer as VIEWER\n",
    "import igl\n",
    "from rainbow.util.timer import Timer\n",
    "from third_party.meshplot.meshplot.plot import plot as mplot"
   ]
  },
  {
   "cell_type": "markdown",
   "id": "167e1609",
   "metadata": {},
   "source": [
    "# Setup"
   ]
  },
  {
   "cell_type": "code",
   "execution_count": 8,
   "id": "3955dc77",
   "metadata": {},
   "outputs": [
    {
     "name": "stdout",
     "output_type": "stream",
     "text": [
      "engine.params.envelope =  0.3\n",
      "engine.params.resolution =  64\n"
     ]
    }
   ],
   "source": [
    "engine = API.Engine()\n",
    "\n",
    "engine.params.envelope = 0.3\n",
    "print('engine.params.envelope = ',engine.params.envelope)\n",
    "\n",
    "engine.params.resolution = 64\n",
    "print('engine.params.resolution = ',engine.params.resolution)\n",
    "\n",
    "API.create_rigid_body(engine,'body_A')\n",
    "API.create_rigid_body(engine,'body_B')\n",
    "\n",
    "#V, T = MESH.create_box(5, 6, 4)\n",
    "V, T = MESH.create_sphere(5, 8, 8)\n",
    "mesh = API.create_mesh(V, T)\n",
    "API.create_shape(engine, 'body_a_shape', mesh)\n",
    "\n",
    "V, T = MESH.create_box(5, 6, 4)\n",
    "mesh = API.create_mesh(V, T)\n",
    "API.create_shape(engine, 'body_b_shape', mesh )\n",
    "\n",
    "API.connect_shape(engine, 'body_A', 'body_a_shape')\n",
    "API.connect_shape(engine, 'body_B', 'body_b_shape')\n",
    "\n",
    "API.set_mass_properties(engine,'body_A', 1.0)\n",
    "API.set_mass_properties(engine,'body_B', 1.0)\n",
    "\n",
    "API.set_orientation(engine, 'body_A', Q.identity(), use_model_frame=True)\n",
    "API.set_position(engine, 'body_A', V3.make(10.0,2.0,0.0), use_model_frame=True)\n",
    "#API.set_position(engine, 'body_A', V3.make(2.0,2.0,0.0), use_model_frame=True)\n",
    "\n",
    "API.set_orientation(engine, 'body_B', Q.identity(), use_model_frame=True)\n",
    "API.set_position(engine, 'body_B', V3.make(-10.0, 0.0, 0.0), use_model_frame=True)\n",
    "#API.set_position(engine, 'body_B', V3.make(-2.0, 0.0, 0.0), use_model_frame=True)\n",
    "\n",
    "\n",
    "#API.set_orientation(engine, \"body_A\", Q.Ry(0.3 * np.pi))\n",
    "API.set_velocity(engine, \"body_A\", V3.make(-0.1, 0., 0.))\n",
    "#API.set_spin(engine, \"body_A\", V3.make(1e-4*np.pi, 0., 0.))\n",
    "\n",
    "#API.set_orientation(engine, \"body_B\", Q.Rz(0.3 * np.pi))\n",
    "API.set_velocity(engine, \"body_B\", V3.make( 0.01, 0., 0.))\n",
    "#API.set_spin(engine, \"body_B\", V3.make(0., 1e-2*np.pi, 0.))\n"
   ]
  },
  {
   "cell_type": "markdown",
   "id": "1a832dfd",
   "metadata": {},
   "source": [
    "# Viewer Functions"
   ]
  },
  {
   "cell_type": "code",
   "execution_count": 9,
   "id": "6e57294d",
   "metadata": {},
   "outputs": [],
   "source": [
    "def viewer_update_contacts(viewer, engine): \n",
    "    K = len(engine.contact_points)\n",
    "    V = np.zeros((K,3),dtype=np.float64)\n",
    "    N = np.zeros((K,3),dtype=np.float64)\n",
    "    for k in range(K):\n",
    "        V[k,:] = engine.contact_points[k].p\n",
    "        N[k,:] = engine.contact_points[k].n\n",
    "    viewer.update_quiver('contacts', V, N, 2.0)\n",
    "\n",
    "def viewer_update_mesh_position(viewer, engine):\n",
    "    for body in engine.bodies.values():\n",
    "        viewer.place_mesh(body.name, body.r, body.q)"
   ]
  },
  {
   "cell_type": "markdown",
   "id": "232591e8",
   "metadata": {},
   "source": [
    "# Impulse Based method"
   ]
  },
  {
   "cell_type": "code",
   "execution_count": 10,
   "id": "81b2a082",
   "metadata": {},
   "outputs": [],
   "source": [
    "# Linear impulse\n",
    "def compute_impulse(engine, velocity_vector, contact_points):\n",
    "    '''\n",
    "        engine         : The physics engine, belongs to the RAINBOW framework\n",
    "        velocity_vector: The velocity vector contains both linear and angular velocity. \n",
    "                         Therefore the vector is of size 6; 3 indexes for the linear velocity \n",
    "                         and 3 for the angular velocity. \n",
    "        contact_points : List of contact points. Each contact point has the following information. \n",
    "                        - Reference to the two objects colliding; objects A and B.\n",
    "                        - Point of collision\n",
    "                        - Contact normal\n",
    "    '''\n",
    "    body_A              = engine.bodies[\"body_A\"]\n",
    "    body_B              = engine.bodies[\"body_B\"]\n",
    "    body_A_mass         = body_A.mass\n",
    "    body_B_mass         = body_B.mass\n",
    "    inv_inertia_mass_A  = 1 / body_A.inertia\n",
    "    inv_inertia_mass_B  = 1 / body_B.inertia\n",
    "    e                   = 1.0                     #Coefficient of restitution\n",
    "    \n",
    "    r_a                 = body_A.r                #Center of mass global space\n",
    "    r_b                 = body_B.r                #Center of mass global space\n",
    "    \n",
    "    body_A_v            = velocity_vector[:3]     #Current Linear Velocity\n",
    "    body_B_v            = velocity_vector[6:6+3]\n",
    "    \n",
    "    body_A_av           = velocity_vector[3:6]    #Current Angular Velocity\n",
    "    body_B_av           = velocity_vector[6+3:]\n",
    "    \n",
    "    for cp in contact_points:\n",
    "        \n",
    "        #Compute linear velocity\n",
    "        v_r = body_A_v - body_B_v           #Relative velocity\n",
    "        v_j = (- (1 + e) * v_r).dot(cp.n)   #The total velocity of the collision\n",
    "        \n",
    "        #Compute Angular velocity\n",
    "        r_a_cp = r_a - cp.p                 #The world space collision point minus the object’s world space position of body A\n",
    "        r_b_cp = r_b - cp.p                 #The world space collision point minus the object’s world space position of body B\n",
    "        \n",
    "        #Not sure what we do here?\n",
    "        theta_A = inv_inertia_mass_A * np.cross((np.cross(r_a_cp, cp.n)), r_a_cp)\n",
    "        theta_B = inv_inertia_mass_B * np.cross((np.cross(r_b_cp, cp.n)), r_b_cp)\n",
    "        \n",
    "        # Impulse\n",
    "        J = (((- (1 + e) * v_r).dot(cp.n)) / \n",
    "            ((1/(body_A_mass)) + (1/(body_B_mass)) + (theta_A + theta_B).dot(cp.n)))\n",
    "        \n",
    "        #Update velocity vector\n",
    "        velocity_vector[:3]    += (1/(body_A_mass)) * J * cp.n   \n",
    "        velocity_vector[6:6+3] -= (1/(body_B_mass)) * J * cp.n\n",
    "        \n",
    "        velocity_vector[3:6]   +=  inv_inertia_mass_A * (np.cross(r_a, J*cp.n))\n",
    "        velocity_vector[6+3:]  -=  inv_inertia_mass_B * (np.cross(r_a, J*cp.n))                            \n",
    "        \n",
    "    return velocity_vector"
   ]
  },
  {
   "cell_type": "code",
   "execution_count": 11,
   "id": "26c497a9",
   "metadata": {},
   "outputs": [],
   "source": [
    "def simulation(engine, viewer, max_iter=100):\n",
    "    stats = {}\n",
    "    debug_on = False\n",
    "    for i in range(max_iter):\n",
    "        stats = CD.run_collision_detection(engine, stats, debug_on)\n",
    "        contact_points      = engine.contact_points\n",
    "        K = len(engine.contact_points)\n",
    "       \n",
    "        velocity_vector     = SOLVER.get_velocity_vector(engine)\n",
    "        position_vector     = SOLVER.get_position_vector(engine)    \n",
    "        \n",
    "        velocity_vector     = compute_impulse(engine, velocity_vector, contact_points)\n",
    "        \n",
    "        SOLVER.set_velocity_vector(velocity_vector, engine)\n",
    "        SOLVER.position_update(position_vector, velocity_vector, 1, engine)\n",
    "        SOLVER.set_position_vector(position_vector, engine)\n",
    "        \n",
    "        viewer_update_mesh_position(viewer, engine)\n",
    "        viewer_update_contacts(viewer, engine)"
   ]
  },
  {
   "cell_type": "markdown",
   "id": "150c0a06",
   "metadata": {},
   "source": [
    "# Animation"
   ]
  },
  {
   "cell_type": "code",
   "execution_count": 12,
   "id": "27b6b2f9",
   "metadata": {},
   "outputs": [
    {
     "data": {
      "application/vnd.jupyter.widget-view+json": {
       "model_id": "87639871f23547ca9462b34347a8af85",
       "version_major": 2,
       "version_minor": 0
      },
      "text/plain": [
       "Renderer(camera=PerspectiveCamera(aspect=1.25, children=(DirectionalLight(color='white', intensity=0.6, positi…"
      ]
     },
     "metadata": {},
     "output_type": "display_data"
    }
   ],
   "source": [
    "viewer = VIEWER.Viewer()\n",
    "for body in engine.bodies.values():\n",
    "    opacity = 0.5\n",
    "    color = V3.make(1.0,0.1,0.1)\n",
    "    viewer.create_mesh(body.name, body.shape.mesh.V, body.shape.mesh.T, color, opacity)\n",
    "viewer.create_quiver('contacts')\n",
    "\n",
    "viewer_update_mesh_position(viewer, engine)\n",
    "viewer.show()"
   ]
  },
  {
   "cell_type": "code",
   "execution_count": 13,
   "id": "5ac363e3",
   "metadata": {},
   "outputs": [],
   "source": [
    "simulation(engine, viewer, max_iter=1000)"
   ]
  },
  {
   "cell_type": "code",
   "execution_count": null,
   "id": "84274eb7",
   "metadata": {},
   "outputs": [],
   "source": []
  },
  {
   "cell_type": "code",
   "execution_count": null,
   "id": "95780517",
   "metadata": {},
   "outputs": [],
   "source": []
  }
 ],
 "metadata": {
  "kernelspec": {
   "display_name": "Python 3 (ipykernel)",
   "language": "python",
   "name": "python3"
  },
  "language_info": {
   "codemirror_mode": {
    "name": "ipython",
    "version": 3
   },
   "file_extension": ".py",
   "mimetype": "text/x-python",
   "name": "python",
   "nbconvert_exporter": "python",
   "pygments_lexer": "ipython3",
   "version": "3.9.7"
  }
 },
 "nbformat": 4,
 "nbformat_minor": 5
}
